{
 "cells": [
  {
   "cell_type": "code",
   "execution_count": 1,
   "metadata": {},
   "outputs": [
    {
     "ename": "AttributeError",
     "evalue": "Can't get attribute 'CustomScaler' on <module '__main__'>",
     "output_type": "error",
     "traceback": [
      "\u001b[1;31m---------------------------------------------------------------------------\u001b[0m",
      "\u001b[1;31mAttributeError\u001b[0m                            Traceback (most recent call last)",
      "Cell \u001b[1;32mIn[1], line 16\u001b[0m\n\u001b[0;32m     13\u001b[0m output_folder \u001b[38;5;241m=\u001b[39m \u001b[38;5;124mr\u001b[39m\u001b[38;5;124m'\u001b[39m\u001b[38;5;124mH:\u001b[39m\u001b[38;5;124m\\\u001b[39m\u001b[38;5;124mDDGAN\u001b[39m\u001b[38;5;124m\\\u001b[39m\u001b[38;5;124mnorm_d\u001b[39m\u001b[38;5;124m'\u001b[39m\n\u001b[0;32m     15\u001b[0m \u001b[38;5;66;03m# Load scalers\u001b[39;00m\n\u001b[1;32m---> 16\u001b[0m u_scaler \u001b[38;5;241m=\u001b[39m \u001b[43mload_scaler\u001b[49m\u001b[43m(\u001b[49m\u001b[43mos\u001b[49m\u001b[38;5;241;43m.\u001b[39;49m\u001b[43mpath\u001b[49m\u001b[38;5;241;43m.\u001b[39;49m\u001b[43mjoin\u001b[49m\u001b[43m(\u001b[49m\u001b[43mscalers_path\u001b[49m\u001b[43m,\u001b[49m\u001b[43m \u001b[49m\u001b[38;5;124;43m'\u001b[39;49m\u001b[38;5;124;43mu_scaler.pkl\u001b[39;49m\u001b[38;5;124;43m'\u001b[39;49m\u001b[43m)\u001b[49m\u001b[43m)\u001b[49m\n\u001b[0;32m     17\u001b[0m v_scaler \u001b[38;5;241m=\u001b[39m load_scaler(os\u001b[38;5;241m.\u001b[39mpath\u001b[38;5;241m.\u001b[39mjoin(scalers_path, \u001b[38;5;124m'\u001b[39m\u001b[38;5;124mv_scaler.pkl\u001b[39m\u001b[38;5;124m'\u001b[39m))\n\u001b[0;32m     18\u001b[0m w_scaler \u001b[38;5;241m=\u001b[39m load_scaler(os\u001b[38;5;241m.\u001b[39mpath\u001b[38;5;241m.\u001b[39mjoin(scalers_path, \u001b[38;5;124m'\u001b[39m\u001b[38;5;124mw_scaler.pkl\u001b[39m\u001b[38;5;124m'\u001b[39m))\n",
      "Cell \u001b[1;32mIn[1], line 8\u001b[0m, in \u001b[0;36mload_scaler\u001b[1;34m(path)\u001b[0m\n\u001b[0;32m      6\u001b[0m \u001b[38;5;28;01mdef\u001b[39;00m \u001b[38;5;21mload_scaler\u001b[39m(path):\n\u001b[0;32m      7\u001b[0m     \u001b[38;5;28;01mwith\u001b[39;00m \u001b[38;5;28mopen\u001b[39m(path, \u001b[38;5;124m'\u001b[39m\u001b[38;5;124mrb\u001b[39m\u001b[38;5;124m'\u001b[39m) \u001b[38;5;28;01mas\u001b[39;00m f:\n\u001b[1;32m----> 8\u001b[0m         \u001b[38;5;28;01mreturn\u001b[39;00m \u001b[43mpickle\u001b[49m\u001b[38;5;241;43m.\u001b[39;49m\u001b[43mload\u001b[49m\u001b[43m(\u001b[49m\u001b[43mf\u001b[49m\u001b[43m)\u001b[49m\n",
      "\u001b[1;31mAttributeError\u001b[0m: Can't get attribute 'CustomScaler' on <module '__main__'>"
     ]
    }
   ],
   "source": [
    "import numpy as np\n",
    "import pickle\n",
    "import os\n",
    "import glob\n",
    "\n",
    "def load_scaler(path):\n",
    "    with open(path, 'rb') as f:\n",
    "        return pickle.load(f)\n",
    "\n",
    "# Paths\n",
    "scalers_path = r'H:\\DDGAN'\n",
    "input_folder = r'H:\\DDGAN\\samples_d'\n",
    "output_folder = r'H:\\DDGAN\\norm_d'\n",
    "\n",
    "# Load scalers\n",
    "u_scaler = load_scaler(os.path.join(scalers_path, 'u_scaler.pkl'))\n",
    "v_scaler = load_scaler(os.path.join(scalers_path, 'v_scaler.pkl'))\n",
    "w_scaler = load_scaler(os.path.join(scalers_path, 'w_scaler.pkl'))\n",
    "\n",
    "# Ensure output folder exists\n",
    "os.makedirs(output_folder, exist_ok=True)"
   ]
  },
  {
   "cell_type": "code",
   "execution_count": null,
   "metadata": {},
   "outputs": [],
   "source": [
    "# Get list of input files\n",
    "input_files = glob.glob(os.path.join(input_folder, 'd_sample_*.npy'))\n",
    "\n",
    "for input_file in input_files:\n",
    "    # Load the data\n",
    "    data = np.load(input_file)\n",
    "    \n",
    "    # Extract filename\n",
    "    filename = os.path.basename(input_file)\n",
    "    \n",
    "    # Transform each matrix\n",
    "    transformed_data = np.array([\n",
    "        u_scaler.transform(data[0]),\n",
    "        v_scaler.transform(data[1]),\n",
    "        w_scaler.transform(data[2])\n",
    "    ])\n",
    "    \n",
    "    # Save transformed data\n",
    "    output_file = os.path.join(output_folder, f'norm_{filename}')\n",
    "    np.save(output_file, transformed_data)\n",
    "    \n",
    "    print(f\"Processed and saved: {output_file}\")\n",
    "\n",
    "print(\"All files processed.\")"
   ]
  }
 ],
 "metadata": {
  "kernelspec": {
   "display_name": "Python 3",
   "language": "python",
   "name": "python3"
  },
  "language_info": {
   "codemirror_mode": {
    "name": "ipython",
    "version": 3
   },
   "file_extension": ".py",
   "mimetype": "text/x-python",
   "name": "python",
   "nbconvert_exporter": "python",
   "pygments_lexer": "ipython3",
   "version": "3.12.3"
  }
 },
 "nbformat": 4,
 "nbformat_minor": 2
}
